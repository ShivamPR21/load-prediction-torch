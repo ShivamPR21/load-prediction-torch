{
 "cells": [
  {
   "cell_type": "markdown",
   "metadata": {
    "collapsed": true,
    "pycharm": {
     "name": "#%% md\n"
    }
   },
   "source": [
    "# Electricity Load Prediction\n",
    "## Shivam Pandey | [ShivamPR21](shivampr21.github.io)\n",
    "### Data Exploration"
   ]
  },
  {
   "cell_type": "code",
   "execution_count": 1,
   "outputs": [],
   "source": [
    "import torch\n",
    "import torch.nn as nn\n",
    "\n",
    "import seaborn as sns\n",
    "import numpy as np\n",
    "import pandas as pd\n",
    "import matplotlib.pyplot as plt\n",
    "import matplotlib as mpl\n",
    "\n",
    "from lptorch.io.data import ElectricLoad, ElectricLoadDataset\n",
    "\n",
    "%matplotlib inline"
   ],
   "metadata": {
    "collapsed": false,
    "pycharm": {
     "name": "#%%\n"
    }
   }
  },
  {
   "cell_type": "markdown",
   "source": [
    "### Download Data"
   ],
   "metadata": {
    "collapsed": false,
    "pycharm": {
     "name": "#%% md\n"
    }
   }
  },
  {
   "cell_type": "code",
   "execution_count": 2,
   "outputs": [
    {
     "name": "stdout",
     "output_type": "stream",
     "text": [
      "Data found in the given directory ../data\n",
      "Reading data at ../data/electricity-load.csv\n"
     ]
    }
   ],
   "source": [
    "load_data = ElectricLoad(data_dir='../data')"
   ],
   "metadata": {
    "collapsed": false,
    "pycharm": {
     "name": "#%%\n"
    }
   }
  },
  {
   "cell_type": "code",
   "execution_count": 3,
   "outputs": [
    {
     "name": "stdout",
     "output_type": "stream",
     "text": [
      "Data Split and Processing Done \n",
      " Train Data Size : (91757, 13) \n",
      " Validation Data Size : (10195, 13) \n",
      " Test Data Size : (1440, 13)\n",
      "Available features in the data: Index(['load', 'apparent_temperature', 'temperature', 'humidity', 'dew_point',\n",
      "       'wind_speed', 'cloud_cover', 'date', 'year', 'month', 'day', 'hrs',\n",
      "       'mins'],\n",
      "      dtype='object')\n"
     ]
    }
   ],
   "source": [
    "load_data.process_data(train_val_split=0.9)"
   ],
   "metadata": {
    "collapsed": false,
    "pycharm": {
     "name": "#%%\n"
    }
   }
  },
  {
   "cell_type": "markdown",
   "source": [
    "### Inspect the dataset that we have"
   ],
   "metadata": {
    "collapsed": false,
    "pycharm": {
     "name": "#%% md\n"
    }
   }
  },
  {
   "cell_type": "code",
   "execution_count": 4,
   "outputs": [
    {
     "data": {
      "text/plain": "               load  apparent_temperature   temperature      humidity  \\\ncount  91757.000000          91757.000000  91757.000000  91757.000000   \nmean    1558.910917             29.115526     27.098616      0.602440   \nstd      531.280187             10.425206      8.501971      0.235647   \nmin      480.631730              2.583000      3.685500      0.042000   \n25%     1185.881400             20.538000     20.511750      0.420000   \n50%     1496.668500             29.956500     28.641375      0.611625   \n75%     1935.836700             37.542750     33.369000      0.798000   \nmax     3230.848600             56.731500     47.943000      1.050000   \n\n          dew_point    wind_speed   cloud_cover          year         month  \\\ncount  91757.000000  91757.000000  91757.000000  91757.000000  91757.000000   \nmean      15.904641      2.430586      0.328109   2018.980198      6.416655   \nstd        7.928687      1.368175      0.333545      0.816365      3.407493   \nmin      -13.692000      0.000000      0.000000   2018.000000      1.000000   \n25%        9.775500      1.472625      0.000000   2018.000000      3.000000   \n50%       14.889000      2.352000      0.212625   2019.000000      6.000000   \n75%       23.905875      3.286500      0.580125   2020.000000      9.000000   \nmax       31.059000     10.321500      1.050000   2020.000000     12.000000   \n\n                day           hrs          mins  \ncount  91757.000000  91757.000000  91757.000000  \nmean      15.620083     11.505585     22.503188  \nstd        8.823099      6.929243     16.771405  \nmin        1.000000      0.000000      0.000000  \n25%        8.000000      5.000000     15.000000  \n50%       15.000000     12.000000     30.000000  \n75%       23.000000     18.000000     45.000000  \nmax       31.000000     23.000000     45.000000  ",
      "text/html": "<div>\n<style scoped>\n    .dataframe tbody tr th:only-of-type {\n        vertical-align: middle;\n    }\n\n    .dataframe tbody tr th {\n        vertical-align: top;\n    }\n\n    .dataframe thead th {\n        text-align: right;\n    }\n</style>\n<table border=\"1\" class=\"dataframe\">\n  <thead>\n    <tr style=\"text-align: right;\">\n      <th></th>\n      <th>load</th>\n      <th>apparent_temperature</th>\n      <th>temperature</th>\n      <th>humidity</th>\n      <th>dew_point</th>\n      <th>wind_speed</th>\n      <th>cloud_cover</th>\n      <th>year</th>\n      <th>month</th>\n      <th>day</th>\n      <th>hrs</th>\n      <th>mins</th>\n    </tr>\n  </thead>\n  <tbody>\n    <tr>\n      <th>count</th>\n      <td>91757.000000</td>\n      <td>91757.000000</td>\n      <td>91757.000000</td>\n      <td>91757.000000</td>\n      <td>91757.000000</td>\n      <td>91757.000000</td>\n      <td>91757.000000</td>\n      <td>91757.000000</td>\n      <td>91757.000000</td>\n      <td>91757.000000</td>\n      <td>91757.000000</td>\n      <td>91757.000000</td>\n    </tr>\n    <tr>\n      <th>mean</th>\n      <td>1558.910917</td>\n      <td>29.115526</td>\n      <td>27.098616</td>\n      <td>0.602440</td>\n      <td>15.904641</td>\n      <td>2.430586</td>\n      <td>0.328109</td>\n      <td>2018.980198</td>\n      <td>6.416655</td>\n      <td>15.620083</td>\n      <td>11.505585</td>\n      <td>22.503188</td>\n    </tr>\n    <tr>\n      <th>std</th>\n      <td>531.280187</td>\n      <td>10.425206</td>\n      <td>8.501971</td>\n      <td>0.235647</td>\n      <td>7.928687</td>\n      <td>1.368175</td>\n      <td>0.333545</td>\n      <td>0.816365</td>\n      <td>3.407493</td>\n      <td>8.823099</td>\n      <td>6.929243</td>\n      <td>16.771405</td>\n    </tr>\n    <tr>\n      <th>min</th>\n      <td>480.631730</td>\n      <td>2.583000</td>\n      <td>3.685500</td>\n      <td>0.042000</td>\n      <td>-13.692000</td>\n      <td>0.000000</td>\n      <td>0.000000</td>\n      <td>2018.000000</td>\n      <td>1.000000</td>\n      <td>1.000000</td>\n      <td>0.000000</td>\n      <td>0.000000</td>\n    </tr>\n    <tr>\n      <th>25%</th>\n      <td>1185.881400</td>\n      <td>20.538000</td>\n      <td>20.511750</td>\n      <td>0.420000</td>\n      <td>9.775500</td>\n      <td>1.472625</td>\n      <td>0.000000</td>\n      <td>2018.000000</td>\n      <td>3.000000</td>\n      <td>8.000000</td>\n      <td>5.000000</td>\n      <td>15.000000</td>\n    </tr>\n    <tr>\n      <th>50%</th>\n      <td>1496.668500</td>\n      <td>29.956500</td>\n      <td>28.641375</td>\n      <td>0.611625</td>\n      <td>14.889000</td>\n      <td>2.352000</td>\n      <td>0.212625</td>\n      <td>2019.000000</td>\n      <td>6.000000</td>\n      <td>15.000000</td>\n      <td>12.000000</td>\n      <td>30.000000</td>\n    </tr>\n    <tr>\n      <th>75%</th>\n      <td>1935.836700</td>\n      <td>37.542750</td>\n      <td>33.369000</td>\n      <td>0.798000</td>\n      <td>23.905875</td>\n      <td>3.286500</td>\n      <td>0.580125</td>\n      <td>2020.000000</td>\n      <td>9.000000</td>\n      <td>23.000000</td>\n      <td>18.000000</td>\n      <td>45.000000</td>\n    </tr>\n    <tr>\n      <th>max</th>\n      <td>3230.848600</td>\n      <td>56.731500</td>\n      <td>47.943000</td>\n      <td>1.050000</td>\n      <td>31.059000</td>\n      <td>10.321500</td>\n      <td>1.050000</td>\n      <td>2020.000000</td>\n      <td>12.000000</td>\n      <td>31.000000</td>\n      <td>23.000000</td>\n      <td>45.000000</td>\n    </tr>\n  </tbody>\n</table>\n</div>"
     },
     "execution_count": 4,
     "metadata": {},
     "output_type": "execute_result"
    }
   ],
   "source": [
    "load_data.train_data.describe()"
   ],
   "metadata": {
    "collapsed": false,
    "pycharm": {
     "name": "#%%\n"
    }
   }
  },
  {
   "cell_type": "code",
   "execution_count": 5,
   "outputs": [],
   "source": [],
   "metadata": {
    "collapsed": false,
    "pycharm": {
     "name": "#%%\n"
    }
   }
  },
  {
   "cell_type": "code",
   "execution_count": 5,
   "outputs": [],
   "source": [],
   "metadata": {
    "collapsed": false,
    "pycharm": {
     "name": "#%%\n"
    }
   }
  },
  {
   "cell_type": "code",
   "execution_count": null,
   "outputs": [],
   "source": [],
   "metadata": {
    "collapsed": false,
    "pycharm": {
     "name": "#%%\n"
    }
   }
  }
 ],
 "metadata": {
  "kernelspec": {
   "display_name": "Python 3",
   "language": "python",
   "name": "python3"
  },
  "language_info": {
   "codemirror_mode": {
    "name": "ipython",
    "version": 2
   },
   "file_extension": ".py",
   "mimetype": "text/x-python",
   "name": "python",
   "nbconvert_exporter": "python",
   "pygments_lexer": "ipython2",
   "version": "2.7.6"
  }
 },
 "nbformat": 4,
 "nbformat_minor": 0
}